{
 "cells": [
  {
   "cell_type": "code",
   "execution_count": 1,
   "id": "a1154d29",
   "metadata": {},
   "outputs": [],
   "source": [
    "import warnings\n",
    "warnings.filterwarnings('ignore') \n",
    "\n",
    "import sys\n",
    "sys.path.append('../')\n",
    "\n",
    "from Network import Network\n",
    "from Environment import CyberAttack \n",
    "import numpy as np\n",
    "import glob\n",
    "import matplotlib.pyplot as plt\n",
    "import seaborn as sns\n",
    "import statsmodels.api as sm\n",
    "from scipy.stats import spearmanr"
   ]
  },
  {
   "cell_type": "code",
   "execution_count": 2,
   "id": "eb365dd2",
   "metadata": {},
   "outputs": [],
   "source": [
    "network = Network(1000,random_state=0).network"
   ]
  },
  {
   "cell_type": "code",
   "execution_count": 3,
   "id": "10588160",
   "metadata": {},
   "outputs": [],
   "source": [
    "results = np.zeros(len(network))\n",
    "\n",
    "for file in glob.glob(\"Single_Run_Results/*\"):\n",
    "    results += np.load(file)"
   ]
  },
  {
   "cell_type": "code",
   "execution_count": 4,
   "id": "ab8a97f8",
   "metadata": {},
   "outputs": [],
   "source": [
    "network[\"RL_Breach_Probability\"] = results/10000\n",
    "network[\"Number_Connections\"] = network[\"All_Connections\"].apply(lambda x: len(x))\n",
    "network[\"Number_Outgoing_Connections\"] = network[\"Outgoing_Connections\"].apply(lambda x: len(x))\n",
    "network[\"Number_Incoming_Connections\"] = network[\"Incoming_Connections\"].apply(lambda x: len(x))"
   ]
  },
  {
   "cell_type": "code",
   "execution_count": 5,
   "id": "897af0f0",
   "metadata": {},
   "outputs": [
    {
     "data": {
      "image/png": "[encoded data removed]",
      "text/plain": [
       "<Figure size 864x576 with 1 Axes>"
      ]
     },
     "metadata": {
      "needs_background": "light"
     },
     "output_type": "display_data"
    }
   ],
   "source": [
    "bin_1 = 0\n",
    "bin_2 = 0\n",
    "bin_3 = 0\n",
    "bin_4 = 0\n",
    "for i in range(len(network)):\n",
    "    if network[\"RL_Breach_Probability\"][i] <= .25:\n",
    "        bin_1 += 1\n",
    "    elif network[\"RL_Breach_Probability\"][i] <= .50:\n",
    "        bin_2 += 1\n",
    "    elif network[\"RL_Breach_Probability\"][i] <= .75:\n",
    "        bin_3 += 1\n",
    "    else:\n",
    "        bin_4 += 1   \n",
    "bin_1,bin_2,bin_3,bin_4 = bin_1/1000,bin_2/1000,bin_3/1000,bin_4/1000\n",
    "\n",
    "fig, ax = plt.subplots(figsize=(12, 8))\n",
    "sns.barplot([0,1,2,3],[bin_1,bin_2,bin_3,bin_4],ax=ax)\n",
    "ax.set_title(\"Proportion of companies by breach probability\")\n",
    "def autolabel(rects):\n",
    "    for rect in rects:\n",
    "        height = rect.get_height()\n",
    "        ax.text(rect.get_x() + rect.get_width() / 2., height,\n",
    "                height,\n",
    "                ha=\"center\",va=\"bottom\",rotation=0,color=\"black\")\n",
    "autolabel(ax.patches)\n",
    "ax.set_xticks(ticks=[0,1,2,3],labels=[\"0 - 25%\",\"25 - 50%\",\"50 - 75%\",\"75 - 100%\"])\n",
    "ax.set_xlabel(\"Breach probability\")\n",
    "ax.set_ylabel(\"Proportion of companies\")\n",
    "plt.show()"
   ]
  },
  {
   "cell_type": "code",
   "execution_count": 6,
   "id": "e853590d",
   "metadata": {},
   "outputs": [
    {
     "name": "stdout",
     "output_type": "stream",
     "text": [
      "Size: Rho = 0.23, p = 0.0\n",
      "Number_Connections: Rho = 0.08, p = 0.01\n",
      "Number_Incoming_Connections: Rho = 0.10, p = 0.0\n",
      "Number_Outgoing_Connections: Rho = 0.04, p = 0.22\n"
     ]
    }
   ],
   "source": [
    "for feature in [\"Size\",\"Number_Connections\",\"Number_Incoming_Connections\",\"Number_Outgoing_Connections\"]:\n",
    "    rho,p = spearmanr(network[feature],network[\"RL_Breach_Probability\"])\n",
    "    print(f\"{feature}: Rho = {rho:.2f}, p = {round(p,2)}\")    "
   ]
  },
  {
   "cell_type": "code",
   "execution_count": 7,
   "id": "f2770d7f",
   "metadata": {},
   "outputs": [
    {
     "data": {
      "text/html": [
       "<table class=\"simpletable\">\n",
       "<caption>OLS Regression Results</caption>\n",
       "<tr>\n",
       "  <th>Dep. Variable:</th>    <td>RL_Breach_Probability</td> <th>  R-squared:         </th> <td>   0.149</td>\n",
       "</tr>\n",
       "<tr>\n",
       "  <th>Model:</th>                     <td>OLS</td>          <th>  Adj. R-squared:    </th> <td>   0.147</td>\n",
       "</tr>\n",
       "<tr>\n",
       "  <th>Method:</th>               <td>Least Squares</td>     <th>  F-statistic:       </th> <td>   58.23</td>\n",
       "</tr>\n",
       "<tr>\n",
       "  <th>Date:</th>               <td>Sun, 04 Dec 2022</td>    <th>  Prob (F-statistic):</th> <td>1.10e-34</td>\n",
       "</tr>\n",
       "<tr>\n",
       "  <th>Time:</th>                   <td>11:30:20</td>        <th>  Log-Likelihood:    </th> <td>  125.66</td>\n",
       "</tr>\n",
       "<tr>\n",
       "  <th>No. Observations:</th>        <td>  1000</td>         <th>  AIC:               </th> <td>  -243.3</td>\n",
       "</tr>\n",
       "<tr>\n",
       "  <th>Df Residuals:</th>            <td>   996</td>         <th>  BIC:               </th> <td>  -223.7</td>\n",
       "</tr>\n",
       "<tr>\n",
       "  <th>Df Model:</th>                <td>     3</td>         <th>                     </th>     <td> </td>   \n",
       "</tr>\n",
       "<tr>\n",
       "  <th>Covariance Type:</th>        <td>nonrobust</td>       <th>                     </th>     <td> </td>   \n",
       "</tr>\n",
       "</table>\n",
       "<table class=\"simpletable\">\n",
       "<tr>\n",
       "               <td></td>                  <th>coef</th>     <th>std err</th>      <th>t</th>      <th>P>|t|</th>  <th>[0.025</th>    <th>0.975]</th>  \n",
       "</tr>\n",
       "<tr>\n",
       "  <th>const</th>                       <td>   -0.0979</td> <td>    0.021</td> <td>   -4.748</td> <td> 0.000</td> <td>   -0.138</td> <td>   -0.057</td>\n",
       "</tr>\n",
       "<tr>\n",
       "  <th>Size</th>                        <td> 6.699e-06</td> <td> 5.34e-07</td> <td>   12.535</td> <td> 0.000</td> <td> 5.65e-06</td> <td> 7.75e-06</td>\n",
       "</tr>\n",
       "<tr>\n",
       "  <th>Number_Connections</th>          <td>    0.0020</td> <td>    0.001</td> <td>    3.372</td> <td> 0.001</td> <td>    0.001</td> <td>    0.003</td>\n",
       "</tr>\n",
       "<tr>\n",
       "  <th>Number_Incoming_Connections</th> <td>   -0.0022</td> <td>    0.001</td> <td>   -3.921</td> <td> 0.000</td> <td>   -0.003</td> <td>   -0.001</td>\n",
       "</tr>\n",
       "<tr>\n",
       "  <th>Number_Outgoing_Connections</th> <td>    0.0042</td> <td>    0.001</td> <td>    3.653</td> <td> 0.000</td> <td>    0.002</td> <td>    0.006</td>\n",
       "</tr>\n",
       "</table>\n",
       "<table class=\"simpletable\">\n",
       "<tr>\n",
       "  <th>Omnibus:</th>       <td>540.002</td> <th>  Durbin-Watson:     </th> <td>   1.918</td>\n",
       "</tr>\n",
       "<tr>\n",
       "  <th>Prob(Omnibus):</th> <td> 0.000</td>  <th>  Jarque-Bera (JB):  </th> <td>2933.303</td>\n",
       "</tr>\n",
       "<tr>\n",
       "  <th>Skew:</th>          <td> 2.568</td>  <th>  Prob(JB):          </th> <td>    0.00</td>\n",
       "</tr>\n",
       "<tr>\n",
       "  <th>Kurtosis:</th>      <td> 9.635</td>  <th>  Cond. No.          </th> <td>2.86e+18</td>\n",
       "</tr>\n",
       "</table><br/><br/>Notes:<br/>[1] Standard Errors assume that the covariance matrix of the errors is correctly specified.<br/>[2] The smallest eigenvalue is 5.38e-26. This might indicate that there are<br/>strong multicollinearity problems or that the design matrix is singular."
      ],
      "text/plain": [
       "<class 'statsmodels.iolib.summary.Summary'>\n",
       "\"\"\"\n",
       "                              OLS Regression Results                             \n",
       "=================================================================================\n",
       "Dep. Variable:     RL_Breach_Probability   R-squared:                       0.149\n",
       "Model:                               OLS   Adj. R-squared:                  0.147\n",
       "Method:                    Least Squares   F-statistic:                     58.23\n",
       "Date:                   Sun, 04 Dec 2022   Prob (F-statistic):           1.10e-34\n",
       "Time:                           11:30:20   Log-Likelihood:                 125.66\n",
       "No. Observations:                   1000   AIC:                            -243.3\n",
       "Df Residuals:                        996   BIC:                            -223.7\n",
       "Df Model:                              3                                         \n",
       "Covariance Type:               nonrobust                                         \n",
       "===============================================================================================\n",
       "                                  coef    std err          t      P>|t|      [0.025      0.975]\n",
       "-----------------------------------------------------------------------------------------------\n",
       "const                          -0.0979      0.021     -4.748      0.000      -0.138      -0.057\n",
       "Size                         6.699e-06   5.34e-07     12.535      0.000    5.65e-06    7.75e-06\n",
       "Number_Connections              0.0020      0.001      3.372      0.001       0.001       0.003\n",
       "Number_Incoming_Connections    -0.0022      0.001     -3.921      0.000      -0.003      -0.001\n",
       "Number_Outgoing_Connections     0.0042      0.001      3.653      0.000       0.002       0.006\n",
       "==============================================================================\n",
       "Omnibus:                      540.002   Durbin-Watson:                   1.918\n",
       "Prob(Omnibus):                  0.000   Jarque-Bera (JB):             2933.303\n",
       "Skew:                           2.568   Prob(JB):                         0.00\n",
       "Kurtosis:                       9.635   Cond. No.                     2.86e+18\n",
       "==============================================================================\n",
       "\n",
       "Notes:\n",
       "[1] Standard Errors assume that the covariance matrix of the errors is correctly specified.\n",
       "[2] The smallest eigenvalue is 5.38e-26. This might indicate that there are\n",
       "strong multicollinearity problems or that the design matrix is singular.\n",
       "\"\"\""
      ]
     },
     "execution_count": 7,
     "metadata": {},
     "output_type": "execute_result"
    }
   ],
   "source": [
    "y = network[\"RL_Breach_Probability\"]\n",
    "X = network[[\"Size\",\"Number_Connections\",\"Number_Incoming_Connections\",\"Number_Outgoing_Connections\"]]\n",
    "X_ = sm.add_constant(X)\n",
    "X_ = X_.astype(float)\n",
    "model = sm.OLS(y,X_).fit()\n",
    "model.summary()"
   ]
  }
 ],
 "metadata": {
  "kernelspec": {
   "display_name": "Python 3 (ipykernel)",
   "language": "python",
   "name": "python3"
  },
  "language_info": {
   "codemirror_mode": {
    "name": "ipython",
    "version": 3
   },
   "file_extension": ".py",
   "mimetype": "text/x-python",
   "name": "python",
   "nbconvert_exporter": "python",
   "pygments_lexer": "ipython3",
   "version": "3.8.13"
  },
  "latex_envs": {
   "LaTeX_envs_menu_present": true,
   "autoclose": false,
   "autocomplete": true,
   "bibliofile": "biblio.bib",
   "cite_by": "apalike",
   "current_citInitial": 1,
   "eqLabelWithNumbers": true,
   "eqNumInitial": 1,
   "hotkeys": {
    "equation": "Ctrl-E",
    "itemize": "Ctrl-I"
   },
   "labels_anchors": false,
   "latex_user_defs": false,
   "report_style_numbering": false,
   "user_envs_cfg": false
  },
  "toc": {
   "base_numbering": 1,
   "nav_menu": {},
   "number_sections": true,
   "sideBar": true,
   "skip_h1_title": false,
   "title_cell": "Table of Contents",
   "title_sidebar": "Contents",
   "toc_cell": false,
   "toc_position": {},
   "toc_section_display": true,
   "toc_window_display": false
  }
 },
 "nbformat": 4,
 "nbformat_minor": 5
}
