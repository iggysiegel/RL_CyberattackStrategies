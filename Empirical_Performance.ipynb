{
 "cells": [
  {
   "cell_type": "markdown",
   "id": "e9d2a304",
   "metadata": {},
   "source": [
    "# Import Libraries"
   ]
  },
  {
   "cell_type": "code",
   "execution_count": 1,
   "id": "a1154d29",
   "metadata": {},
   "outputs": [],
   "source": [
    "from Network import Network\n",
    "from Environment import CyberAttack \n",
    "\n",
    "import pandas as pd\n",
    "import numpy as np\n",
    "import matplotlib.pyplot as plt\n",
    "import networkx as nx\n",
    "\n",
    "import stable_baselines3\n",
    "from stable_baselines3.common.env_checker import check_env\n",
    "from stable_baselines3 import PPO\n",
    "from stable_baselines3 import A2C\n",
    "from stable_baselines3.common.evaluation import evaluate_policy\n",
    "from sb3_contrib.common.wrappers import ActionMasker\n",
    "from sb3_contrib.ppo_mask import MaskablePPO"
   ]
  },
  {
   "cell_type": "markdown",
   "id": "e4d48f02",
   "metadata": {},
   "source": [
    "# Synthetic Network"
   ]
  },
  {
   "cell_type": "code",
   "execution_count": 2,
   "id": "001d08c4",
   "metadata": {},
   "outputs": [
    {
     "data": {
      "text/html": [
       "<div>\n",
       "<style scoped>\n",
       "    .dataframe tbody tr th:only-of-type {\n",
       "        vertical-align: middle;\n",
       "    }\n",
       "\n",
       "    .dataframe tbody tr th {\n",
       "        vertical-align: top;\n",
       "    }\n",
       "\n",
       "    .dataframe thead th {\n",
       "        text-align: right;\n",
       "    }\n",
       "</style>\n",
       "<table border=\"1\" class=\"dataframe\">\n",
       "  <thead>\n",
       "    <tr style=\"text-align: right;\">\n",
       "      <th></th>\n",
       "      <th>ID</th>\n",
       "      <th>Type</th>\n",
       "      <th>Size</th>\n",
       "      <th>Incoming_Connections</th>\n",
       "      <th>Outgoing_Connections</th>\n",
       "      <th>All_Connections</th>\n",
       "    </tr>\n",
       "  </thead>\n",
       "  <tbody>\n",
       "    <tr>\n",
       "      <th>0</th>\n",
       "      <td>0</td>\n",
       "      <td>Company</td>\n",
       "      <td>100000</td>\n",
       "      <td>[]</td>\n",
       "      <td>[10]</td>\n",
       "      <td>[10]</td>\n",
       "    </tr>\n",
       "    <tr>\n",
       "      <th>1</th>\n",
       "      <td>1</td>\n",
       "      <td>Company</td>\n",
       "      <td>11000</td>\n",
       "      <td>[]</td>\n",
       "      <td>[10]</td>\n",
       "      <td>[10]</td>\n",
       "    </tr>\n",
       "    <tr>\n",
       "      <th>2</th>\n",
       "      <td>2</td>\n",
       "      <td>Company</td>\n",
       "      <td>12000</td>\n",
       "      <td>[]</td>\n",
       "      <td>[10]</td>\n",
       "      <td>[10]</td>\n",
       "    </tr>\n",
       "    <tr>\n",
       "      <th>3</th>\n",
       "      <td>3</td>\n",
       "      <td>Company</td>\n",
       "      <td>13000</td>\n",
       "      <td>[]</td>\n",
       "      <td>[10, 11]</td>\n",
       "      <td>[10, 11]</td>\n",
       "    </tr>\n",
       "    <tr>\n",
       "      <th>4</th>\n",
       "      <td>4</td>\n",
       "      <td>Company</td>\n",
       "      <td>14000</td>\n",
       "      <td>[]</td>\n",
       "      <td>[10, 11]</td>\n",
       "      <td>[10, 11]</td>\n",
       "    </tr>\n",
       "    <tr>\n",
       "      <th>5</th>\n",
       "      <td>5</td>\n",
       "      <td>Company</td>\n",
       "      <td>15000</td>\n",
       "      <td>[]</td>\n",
       "      <td>[10, 11]</td>\n",
       "      <td>[10, 11]</td>\n",
       "    </tr>\n",
       "    <tr>\n",
       "      <th>6</th>\n",
       "      <td>6</td>\n",
       "      <td>Company</td>\n",
       "      <td>16000</td>\n",
       "      <td>[]</td>\n",
       "      <td>[10, 11]</td>\n",
       "      <td>[10, 11]</td>\n",
       "    </tr>\n",
       "    <tr>\n",
       "      <th>7</th>\n",
       "      <td>7</td>\n",
       "      <td>Company</td>\n",
       "      <td>17000</td>\n",
       "      <td>[]</td>\n",
       "      <td>[11]</td>\n",
       "      <td>[11]</td>\n",
       "    </tr>\n",
       "    <tr>\n",
       "      <th>8</th>\n",
       "      <td>8</td>\n",
       "      <td>Company</td>\n",
       "      <td>18000</td>\n",
       "      <td>[]</td>\n",
       "      <td>[11]</td>\n",
       "      <td>[11]</td>\n",
       "    </tr>\n",
       "    <tr>\n",
       "      <th>9</th>\n",
       "      <td>9</td>\n",
       "      <td>Company</td>\n",
       "      <td>19000</td>\n",
       "      <td>[]</td>\n",
       "      <td>[11]</td>\n",
       "      <td>[11]</td>\n",
       "    </tr>\n",
       "    <tr>\n",
       "      <th>10</th>\n",
       "      <td>10</td>\n",
       "      <td>Third-Party</td>\n",
       "      <td>50</td>\n",
       "      <td>[0, 1, 2, 3, 4, 5, 6]</td>\n",
       "      <td>[12]</td>\n",
       "      <td>[0, 1, 2, 3, 4, 5, 6, 12]</td>\n",
       "    </tr>\n",
       "    <tr>\n",
       "      <th>11</th>\n",
       "      <td>11</td>\n",
       "      <td>Third-Party</td>\n",
       "      <td>100000</td>\n",
       "      <td>[3, 4, 5, 6, 7, 8, 9]</td>\n",
       "      <td>[12]</td>\n",
       "      <td>[3, 4, 5, 6, 7, 8, 9, 12]</td>\n",
       "    </tr>\n",
       "    <tr>\n",
       "      <th>12</th>\n",
       "      <td>12</td>\n",
       "      <td>Fourth-Party</td>\n",
       "      <td>50000</td>\n",
       "      <td>[10, 11]</td>\n",
       "      <td>[]</td>\n",
       "      <td>[10, 11]</td>\n",
       "    </tr>\n",
       "  </tbody>\n",
       "</table>\n",
       "</div>"
      ],
      "text/plain": [
       "    ID          Type    Size   Incoming_Connections Outgoing_Connections  \\\n",
       "0    0       Company  100000                     []                 [10]   \n",
       "1    1       Company   11000                     []                 [10]   \n",
       "2    2       Company   12000                     []                 [10]   \n",
       "3    3       Company   13000                     []             [10, 11]   \n",
       "4    4       Company   14000                     []             [10, 11]   \n",
       "5    5       Company   15000                     []             [10, 11]   \n",
       "6    6       Company   16000                     []             [10, 11]   \n",
       "7    7       Company   17000                     []                 [11]   \n",
       "8    8       Company   18000                     []                 [11]   \n",
       "9    9       Company   19000                     []                 [11]   \n",
       "10  10   Third-Party      50  [0, 1, 2, 3, 4, 5, 6]                 [12]   \n",
       "11  11   Third-Party  100000  [3, 4, 5, 6, 7, 8, 9]                 [12]   \n",
       "12  12  Fourth-Party   50000               [10, 11]                   []   \n",
       "\n",
       "              All_Connections  \n",
       "0                        [10]  \n",
       "1                        [10]  \n",
       "2                        [10]  \n",
       "3                    [10, 11]  \n",
       "4                    [10, 11]  \n",
       "5                    [10, 11]  \n",
       "6                    [10, 11]  \n",
       "7                        [11]  \n",
       "8                        [11]  \n",
       "9                        [11]  \n",
       "10  [0, 1, 2, 3, 4, 5, 6, 12]  \n",
       "11  [3, 4, 5, 6, 7, 8, 9, 12]  \n",
       "12                   [10, 11]  "
      ]
     },
     "execution_count": 2,
     "metadata": {},
     "output_type": "execute_result"
    }
   ],
   "source": [
    "data = {\"ID\": [0,1,2,3,4,5,6,7,8,9,10,11,12],\n",
    "        \"Type\": [\"Company\",\"Company\",\"Company\",\"Company\",\"Company\",\"Company\",\"Company\",\n",
    "                 \"Company\",\"Company\",\"Company\",\"Third-Party\",\"Third-Party\",\"Fourth-Party\"],\n",
    "        \"Size\": [100000,11000,12000,13000,14000,15000,16000,17000,18000,19000,50,100000,50000],\n",
    "        \"Incoming_Connections\": [[],[],[],[],[],[],[],[],[],[],\n",
    "                                 [0,1,2,3,4,5,6],[3,4,5,6,7,8,9],[10,11]],\n",
    "        \"Outgoing_Connections\": [[10],[10],[10],[10,11],[10,11],[10,11],[10,11],[11],[11],[11],[12],[12],[]],\n",
    "        \"All_Connections\": [[10],[10],[10],[10,11],[10,11],[10,11],[10,11],[11],[11],[11],\n",
    "                            [0,1,2,3,4,5,6,12],[3,4,5,6,7,8,9,12],[10,11]]}\n",
    "\n",
    "network = pd.DataFrame(data)\n",
    "network"
   ]
  },
  {
   "cell_type": "code",
   "execution_count": 3,
   "id": "14c24d47",
   "metadata": {},
   "outputs": [
    {
     "data": {
      "image/png": "[encoded data removed]",
      "text/plain": [
       "<Figure size 1440x864 with 1 Axes>"
      ]
     },
     "metadata": {},
     "output_type": "display_data"
    }
   ],
   "source": [
    "G = nx.DiGraph()\n",
    "\n",
    "left_nodes = []\n",
    "middle_nodes = []\n",
    "right_nodes = []\n",
    "\n",
    "for row in network.itertuples():\n",
    "    if row.Type == \"Company\":\n",
    "        left_nodes.append(row.ID)\n",
    "    elif row.Type == \"Third-Party\":\n",
    "        middle_nodes.append(row.ID)\n",
    "    else:\n",
    "        right_nodes.append(row.ID)\n",
    "    for connection in row.Outgoing_Connections:\n",
    "        G.add_edge(connection,row.ID)\n",
    "        \n",
    "pos = {n: (0,i) for i, n in enumerate(left_nodes)}\n",
    "pos.update({n: (1,np.mean(left_nodes)-1+2*i) for i, n in enumerate(middle_nodes)})\n",
    "pos.update({n: (2,np.mean(left_nodes)) for i, n in enumerate(right_nodes)})\n",
    "\n",
    "options = {\n",
    "    \"font_size\": 12,\n",
    "    \"node_size\": 800,\n",
    "    \"node_color\": \"white\",\n",
    "    \"edgecolors\": \"black\",\n",
    "    \"linewidths\": 2,\n",
    "    \"width\": 2,\n",
    "}\n",
    "\n",
    "figure = plt.figure(figsize=(20,12))\n",
    "nx.draw_networkx(G,pos,**options)\n",
    "plt.axis(\"off\")\n",
    "plt.title(\"Supply Chain Network\")\n",
    "plt.show()"
   ]
  },
  {
   "cell_type": "markdown",
   "id": "f54b3440",
   "metadata": {},
   "source": [
    "# Attacks/Rewards"
   ]
  },
  {
   "cell_type": "code",
   "execution_count": 4,
   "id": "3f6347e3",
   "metadata": {},
   "outputs": [
    {
     "data": {
      "image/png": "[encoded data removed]",
      "text/plain": [
       "<Figure size 432x288 with 1 Axes>"
      ]
     },
     "metadata": {
      "needs_background": "light"
     },
     "output_type": "display_data"
    }
   ],
   "source": [
    "def probability(size):\n",
    "    return min(.2,size**(-.25))\n",
    "\n",
    "x = np.arange(1,1e6,1)\n",
    "p = [probability(i) for i in x]\n",
    "plt.plot(x,p)\n",
    "plt.xlabel(\"Company Size\")\n",
    "plt.ylabel(\"Probability of Success\")\n",
    "plt.show()"
   ]
  },
  {
   "cell_type": "code",
   "execution_count": 5,
   "id": "6ebe715b",
   "metadata": {},
   "outputs": [
    {
     "data": {
      "image/png": "[encoded data removed]",
      "text/plain": [
       "<Figure size 432x288 with 1 Axes>"
      ]
     },
     "metadata": {
      "needs_background": "light"
     },
     "output_type": "display_data"
    }
   ],
   "source": [
    "def reward(size):\n",
    "    return (size/1000)\n",
    "\n",
    "x = network[\"Size\"].values\n",
    "p = [reward(i) for i in x]\n",
    "plt.plot(x,p)\n",
    "plt.xlabel(\"Company Size\")\n",
    "plt.ylabel(\"Reward\")\n",
    "plt.show()"
   ]
  },
  {
   "cell_type": "markdown",
   "id": "900997bd",
   "metadata": {},
   "source": [
    "# Theoretical Performance"
   ]
  },
  {
   "cell_type": "markdown",
   "id": "92b7a5f6",
   "metadata": {},
   "source": [
    "##### Unconstrained"
   ]
  },
  {
   "cell_type": "code",
   "execution_count": 6,
   "id": "b40a6b1b",
   "metadata": {},
   "outputs": [
    {
     "name": "stdout",
     "output_type": "stream",
     "text": [
      "Expected Total Steps: 139.88\n",
      "Expected Total Reward: 195.17\n"
     ]
    }
   ],
   "source": [
    "unconstrained_theoretical_steps = 0\n",
    "unconstrained_theoretical_reward = 0\n",
    "\n",
    "for row in network.itertuples():\n",
    "    if row.ID == 12:\n",
    "        continue\n",
    "    p = min(.2,row.Size**(-.25))\n",
    "    r = row.Size/1000\n",
    "    expected_number_steps = 1/p\n",
    "    expected_reward = r - expected_number_steps\n",
    "    unconstrained_theoretical_steps += expected_number_steps\n",
    "    unconstrained_theoretical_reward += expected_reward\n",
    "\n",
    "print(f\"Expected Total Steps: {unconstrained_theoretical_steps:.2f}\")\n",
    "print(f\"Expected Total Reward: {unconstrained_theoretical_reward:.2f}\")"
   ]
  },
  {
   "cell_type": "markdown",
   "id": "28c41f05",
   "metadata": {},
   "source": [
    "##### Constrained"
   ]
  },
  {
   "cell_type": "raw",
   "id": "30e1367c",
   "metadata": {},
   "source": [
    "import gurobipy as gp\n",
    "from gurobipy import GRB\n",
    "\n",
    "costs = []\n",
    "rewards = []\n",
    "for row in network.itertuples():\n",
    "    if row.ID == 12:\n",
    "        costs.append(0)\n",
    "        rewards.append(0)\n",
    "        continue\n",
    "    p = min(.2,row.Size**(-.25))\n",
    "    r = row.Size/1000\n",
    "    expected_number_steps = 1/p\n",
    "    expected_reward = r - expected_number_steps\n",
    "    costs.append(expected_number_steps)\n",
    "    rewards.append(expected_reward)\n",
    "    \n",
    "def constrained_knapsack(costs,rewards,budget):\n",
    "    # Problem parameters\n",
    "    assert(len(costs)==len(rewards))\n",
    "    n = len(costs)\n",
    "    # Set up Gurobi environment\n",
    "    env = gp.Env(empty=True)\n",
    "    env.setParam(\"OutputFlag\",0)\n",
    "    env.start()\n",
    "    # Initialize the model\n",
    "    m = gp.Model(env=env)\n",
    "    # Decision variables\n",
    "    X = m.addVars(n,vtype=GRB.BINARY)\n",
    "    # Constraints\n",
    "    budget_constraint = m.addConstr(sum(costs[i]*X[i] for i in range(n))<=budget)\n",
    "    network_constraint1 = m.addConstrs(X[12]>=X[i] for i in [10,11])\n",
    "    network_constraint2 = m.addConstrs(X[11]>=X[i] for i in [7,8,9])\n",
    "    network_constraint3 = m.addConstrs(X[10]>=X[i] for i in [0,1,2])\n",
    "    network_constraint4 = m.addConstrs(X[10]+X[11]>=X[i] for i in [3,4,5,6])\n",
    "    # Objective function\n",
    "    m.setObjective(sum(rewards[i]*X[i] for i in range(n)),GRB.MAXIMIZE)  \n",
    "    # Update model and solve\n",
    "    m.update()    \n",
    "    m.optimize()\n",
    "    # Return values\n",
    "    total_reward = m.getAttr(\"ObjVal\")\n",
    "    decision_variable = [int(X[i].X) for i in range(n)]\n",
    "    chosen_nodes = [idx for idx,v in enumerate(decision_variable) if v==1]\n",
    "    return(total_reward,chosen_nodes)\n",
    "\n",
    "reward,nodes = constrained_knapsack(costs,rewards,70)"
   ]
  },
  {
   "cell_type": "code",
   "execution_count": 7,
   "id": "eb63324a",
   "metadata": {},
   "outputs": [],
   "source": [
    "constrained_theoretical_reward = 173.16094108689867\n",
    "constrained_theoretical_policy = [0, 8, 9, 10, 11, 12]"
   ]
  },
  {
   "cell_type": "markdown",
   "id": "49567b42",
   "metadata": {},
   "source": [
    "# RL Performance"
   ]
  },
  {
   "cell_type": "markdown",
   "id": "98da85c4",
   "metadata": {},
   "source": [
    "##### Unconstrained Performance"
   ]
  },
  {
   "cell_type": "code",
   "execution_count": 8,
   "id": "752cc480",
   "metadata": {},
   "outputs": [],
   "source": [
    "def mask_fn(env):\n",
    "    a_out = np.array(env.state[\"accessible_out\"],dtype=bool)\n",
    "    a_in = np.array(env.state[\"accessible_in\"],dtype=bool)\n",
    "    c = np.array(env.state[\"compromised\"],dtype=bool)\n",
    "    mask = ~(~(a_out|a_in)|c)\n",
    "    mask = np.array(mask,dtype=np.int32)\n",
    "    return mask"
   ]
  },
  {
   "cell_type": "code",
   "execution_count": 15,
   "id": "ccde5d78",
   "metadata": {},
   "outputs": [
    {
     "data": {
      "text/plain": [
       "{'current_node': 12,\n",
       " 'compromised': array([0, 0, 0, 0, 0, 0, 0, 0, 0, 0, 0, 0, 1], dtype=int32),\n",
       " 'accessible_out': array([0, 0, 0, 0, 0, 0, 0, 0, 0, 0, 0, 0, 0], dtype=int32),\n",
       " 'accessible_in': array([0, 0, 0, 0, 0, 0, 0, 0, 0, 0, 1, 1, 0], dtype=int32),\n",
       " 'size': array([100000,  11000,  12000,  13000,  14000,  15000,  16000,  17000,\n",
       "         18000,  19000,     50, 100000,  50000], dtype=int32)}"
      ]
     },
     "execution_count": 15,
     "metadata": {},
     "output_type": "execute_result"
    }
   ],
   "source": [
    "env = CyberAttack(network,compromised_nodes=[12],shotgun_attack=False)\n",
    "env.reset()\n",
    "env = ActionMasker(env,mask_fn)\n",
    "env.state"
   ]
  },
  {
   "cell_type": "code",
   "execution_count": 11,
   "id": "30a12f31",
   "metadata": {},
   "outputs": [
    {
     "data": {
      "text/plain": [
       "<sb3_contrib.ppo_mask.ppo_mask.MaskablePPO at 0x7f9d3775aaf0>"
      ]
     },
     "execution_count": 11,
     "metadata": {},
     "output_type": "execute_result"
    }
   ],
   "source": [
    "model = MaskablePPO(\"MultiInputPolicy\",env,verbose=0)\n",
    "model.learn(total_timesteps=50000)"
   ]
  },
  {
   "cell_type": "code",
   "execution_count": 12,
   "id": "0c3e150d",
   "metadata": {},
   "outputs": [],
   "source": [
    "def get_performance(steps):\n",
    "    env = CyberAttack(network,compromised_nodes=[12],shotgun_attack=False)\n",
    "    env.reset()\n",
    "    env = ActionMasker(env,mask_fn)\n",
    "    obs = env.state\n",
    "\n",
    "    number_steps = 0\n",
    "    total_reward = 0\n",
    "    terminated = False\n",
    "\n",
    "    for i in range(steps):\n",
    "        action_masks = mask_fn(env)\n",
    "        action,_states = model.predict(obs,action_masks=action_masks,deterministic=True)\n",
    "        obs,reward,done,info = env.step(action)\n",
    "        number_steps += 1\n",
    "        total_reward += reward\n",
    "        if done:\n",
    "            terminated = True\n",
    "            break\n",
    "\n",
    "    return((number_steps,total_reward,terminated))  "
   ]
  },
  {
   "cell_type": "code",
   "execution_count": 13,
   "id": "ce0c3224",
   "metadata": {},
   "outputs": [
    {
     "name": "stdout",
     "output_type": "stream",
     "text": [
      "Average Total Steps: 142.81\n",
      "Average Total Reward: 204.24\n"
     ]
    }
   ],
   "source": [
    "unconstrained_rl_steps = []\n",
    "unconstrained_rl_reward = []\n",
    "\n",
    "for _ in range(100):\n",
    "    result = get_performance(1000)\n",
    "    unconstrained_rl_steps.append(result[0])\n",
    "    unconstrained_rl_reward.append(result[1])\n",
    "    \n",
    "unconstrained_rl_steps = np.mean(unconstrained_rl_steps)\n",
    "unconstrained_rl_reward = np.mean(unconstrained_rl_reward)\n",
    "    \n",
    "print(f\"Average Total Steps: {unconstrained_rl_steps:.2f}\")\n",
    "print(f\"Average Total Reward: {unconstrained_rl_reward:.2f}\")"
   ]
  },
  {
   "cell_type": "markdown",
   "id": "be77c4d9",
   "metadata": {},
   "source": [
    "##### Constrained Performance"
   ]
  },
  {
   "cell_type": "code",
   "execution_count": 14,
   "id": "462d1dca",
   "metadata": {},
   "outputs": [
    {
     "data": {
      "text/plain": [
       "{'current_node': 12,\n",
       " 'compromised': array([0, 0, 0, 0, 0, 0, 0, 0, 0, 0, 0, 0, 1], dtype=int32),\n",
       " 'accessible_out': array([0, 0, 0, 0, 0, 0, 0, 0, 0, 0, 0, 0, 0], dtype=int32),\n",
       " 'accessible_in': array([0, 0, 0, 0, 0, 0, 0, 0, 0, 0, 1, 1, 0], dtype=int32),\n",
       " 'size': array([100000,  11000,  12000,  13000,  14000,  15000,  16000,  17000,\n",
       "         18000,  19000,     50, 100000,  50000], dtype=int32)}"
      ]
     },
     "execution_count": 14,
     "metadata": {},
     "output_type": "execute_result"
    }
   ],
   "source": [
    "env = CyberAttack(network,compromised_nodes=[12],step_limit=70,shotgun_attack=False)\n",
    "env.reset()\n",
    "env = ActionMasker(env,mask_fn)\n",
    "env.state"
   ]
  },
  {
   "cell_type": "code",
   "execution_count": 21,
   "id": "59cc69e0",
   "metadata": {},
   "outputs": [
    {
     "data": {
      "text/plain": [
       "<sb3_contrib.ppo_mask.ppo_mask.MaskablePPO at 0x7f9d3f2c11c0>"
      ]
     },
     "execution_count": 21,
     "metadata": {},
     "output_type": "execute_result"
    }
   ],
   "source": [
    "model = MaskablePPO(\"MultiInputPolicy\",env,verbose=0)\n",
    "model.learn(total_timesteps=50000)"
   ]
  },
  {
   "cell_type": "code",
   "execution_count": 22,
   "id": "48a50f96",
   "metadata": {},
   "outputs": [
    {
     "name": "stdout",
     "output_type": "stream",
     "text": [
      "Policy: [12, 11, 7, 10, 0, 2, 9, 8, 1, 6, 3, 5, 4]\n",
      "Average Total Reward: 170.88\n"
     ]
    }
   ],
   "source": [
    "constrained_rl_policy = [12]\n",
    "env = CyberAttack(network,compromised_nodes=[12],step_limit=70,shotgun_attack=False)\n",
    "env.reset()\n",
    "env = ActionMasker(env,mask_fn)\n",
    "obs = env.state\n",
    "for i in range(1000):\n",
    "    action_masks = mask_fn(env)\n",
    "    action,_states = model.predict(obs,action_masks=action_masks,deterministic=True)\n",
    "    obs,reward,done,info = env.step(action)\n",
    "    if action not in constrained_rl_policy:\n",
    "        constrained_rl_policy.append(int(action))\n",
    "        \n",
    "constrained_rl_reward = []\n",
    "for _ in range(100):\n",
    "    result = get_performance(70)\n",
    "    constrained_rl_reward.append(result[1])\n",
    "constrained_rl_reward = np.mean(constrained_rl_reward)\n",
    "    \n",
    "print(f\"Policy: {constrained_rl_policy}\")\n",
    "print(f\"Average Total Reward: {constrained_rl_reward:.2f}\")"
   ]
  },
  {
   "cell_type": "markdown",
   "id": "845c4b8d",
   "metadata": {},
   "source": [
    "# Results"
   ]
  },
  {
   "cell_type": "code",
   "execution_count": 23,
   "id": "efe83d3a",
   "metadata": {},
   "outputs": [
    {
     "name": "stdout",
     "output_type": "stream",
     "text": [
      "Unconstrained Performance:\n",
      "Theoretical Steps: 139.88\n",
      "RL Steps: 142.81\n",
      "Theoretical Reward: 195.17\n",
      "RL Reward: 204.24\n",
      "\n",
      "Constrained Performance (step limit = 70)\n",
      "Theoretical Reward: 173.16\n",
      "RL Reward: 170.88\n",
      "Theoretical Policy: {0, 8, 9, 10, 11, 12}\n",
      "RL Policy: [12, 11, 7, 10, 0, 2] -> [9, 8, 1, 6, 3, 5, 4]\n"
     ]
    }
   ],
   "source": [
    "print(\"Unconstrained Performance:\")\n",
    "print(f\"Theoretical Steps: {unconstrained_theoretical_steps:.2f}\")\n",
    "print(f\"RL Steps: {unconstrained_rl_steps:.2f}\")\n",
    "print(f\"Theoretical Reward: {unconstrained_theoretical_reward:.2f}\")\n",
    "print(f\"RL Reward: {unconstrained_rl_reward:.2f}\")\n",
    "\n",
    "print()\n",
    "\n",
    "print(\"Constrained Performance (step limit = 70)\")\n",
    "print(f\"Theoretical Reward: {constrained_theoretical_reward:.2f}\")\n",
    "print(f\"RL Reward: {constrained_rl_reward:.2f}\")\n",
    "print(f\"Theoretical Policy: {set(constrained_theoretical_policy)}\")\n",
    "print(f\"RL Policy: {constrained_rl_policy[:6]} -> {constrained_rl_policy[6:]}\")"
   ]
  }
 ],
 "metadata": {
  "kernelspec": {
   "display_name": "Python 3 (ipykernel)",
   "language": "python",
   "name": "python3"
  },
  "language_info": {
   "codemirror_mode": {
    "name": "ipython",
    "version": 3
   },
   "file_extension": ".py",
   "mimetype": "text/x-python",
   "name": "python",
   "nbconvert_exporter": "python",
   "pygments_lexer": "ipython3",
   "version": "3.8.13"
  },
  "latex_envs": {
   "LaTeX_envs_menu_present": true,
   "autoclose": false,
   "autocomplete": true,
   "bibliofile": "biblio.bib",
   "cite_by": "apalike",
   "current_citInitial": 1,
   "eqLabelWithNumbers": true,
   "eqNumInitial": 1,
   "hotkeys": {
    "equation": "Ctrl-E",
    "itemize": "Ctrl-I"
   },
   "labels_anchors": false,
   "latex_user_defs": false,
   "report_style_numbering": false,
   "user_envs_cfg": false
  },
  "toc": {
   "base_numbering": 1,
   "nav_menu": {},
   "number_sections": true,
   "sideBar": true,
   "skip_h1_title": false,
   "title_cell": "Table of Contents",
   "title_sidebar": "Contents",
   "toc_cell": false,
   "toc_position": {},
   "toc_section_display": true,
   "toc_window_display": false
  }
 },
 "nbformat": 4,
 "nbformat_minor": 5
}
